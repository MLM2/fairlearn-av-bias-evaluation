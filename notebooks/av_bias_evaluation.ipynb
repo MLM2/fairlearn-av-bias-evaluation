{
 "cells": [
  {
   "cell_type": "markdown",
   "id": "3de985c8",
   "metadata": {},
   "source": [
    "\n",
    "# Fairlearn AV Bias Evaluation\n",
    "\n",
    "This notebook evaluates **bias and fairness** in a simulated autonomous vehicle (AV) decision-making dataset, using the **Fairlearn Python library**.\n",
    "\n",
    "We will assess disparities across a sensitive attribute (`group`) for AV decisions.\n",
    "\n",
    "---\n"
   ]
  },
  {
   "cell_type": "code",
   "execution_count": null,
   "id": "8bf7aae7",
   "metadata": {},
   "outputs": [],
   "source": [
    "\n",
    "import pandas as pd\n",
    "import matplotlib.pyplot as plt\n",
    "from fairlearn.metrics import MetricFrame, selection_rate, equalized_odds_difference, demographic_parity_difference\n",
    "\n",
    "# Load dataset\n",
    "df = pd.read_csv('../data/av_bias_dataset.csv')\n",
    "df.head()\n"
   ]
  },
  {
   "cell_type": "markdown",
   "id": "bbed715c",
   "metadata": {},
   "source": [
    "\n",
    "## Data Overview\n",
    "\n",
    "Columns:\n",
    "\n",
    "- `group`: Sensitive attribute (Group A, Group B)\n",
    "- `scenario`: Scenario type\n",
    "- `decision`: AV decision (1 = Go, 0 = Stop)\n",
    "- `ground_truth`: Expected correct decision (1 = Go, 0 = Stop)\n"
   ]
  },
  {
   "cell_type": "code",
   "execution_count": null,
   "id": "9a21d332",
   "metadata": {},
   "outputs": [],
   "source": [
    "\n",
    "from sklearn.metrics import accuracy_score\n",
    "\n",
    "overall_accuracy = accuracy_score(df['ground_truth'], df['decision'])\n",
    "print(f\"Overall accuracy: {overall_accuracy:.2f}\")\n"
   ]
  },
  {
   "cell_type": "markdown",
   "id": "7776ead4",
   "metadata": {},
   "source": [
    "\n",
    "## Fairness Metrics\n",
    "We will evaluate:\n",
    "\n",
    "- **Demographic parity difference**\n",
    "- **Equalized odds difference**\n"
   ]
  },
  {
   "cell_type": "code",
   "execution_count": null,
   "id": "823cb008",
   "metadata": {},
   "outputs": [],
   "source": [
    "\n",
    "# Setup MetricFrame\n",
    "metric_frame = MetricFrame(\n",
    "    metrics={\n",
    "        'selection_rate': selection_rate,\n",
    "        'accuracy': accuracy_score\n",
    "    },\n",
    "    sensitive_features=df['group'],\n",
    "    y_true=df['ground_truth'],\n",
    "    y_pred=df['decision']\n",
    ")\n",
    "\n",
    "# Display metrics by group\n",
    "metric_frame.by_group\n"
   ]
  },
  {
   "cell_type": "code",
   "execution_count": null,
   "id": "f9072318",
   "metadata": {},
   "outputs": [],
   "source": [
    "\n",
    "dp_diff = demographic_parity_difference(\n",
    "    y_true=df['ground_truth'],\n",
    "    y_pred=df['decision'],\n",
    "    sensitive_features=df['group']\n",
    ")\n",
    "print(f\"Demographic parity difference: {dp_diff:.2f}\")\n"
   ]
  },
  {
   "cell_type": "code",
   "execution_count": null,
   "id": "44869005",
   "metadata": {},
   "outputs": [],
   "source": [
    "\n",
    "eo_diff = equalized_odds_difference(\n",
    "    y_true=df['ground_truth'],\n",
    "    y_pred=df['decision'],\n",
    "    sensitive_features=df['group']\n",
    ")\n",
    "print(f\"Equalized odds difference: {eo_diff:.2f}\")\n"
   ]
  },
  {
   "cell_type": "markdown",
   "id": "edf96b0e",
   "metadata": {},
   "source": [
    "\n",
    "## Observations\n",
    "\n",
    "- Analyze disparities in selection rates and equalized odds.\n",
    "- If disparities are large, consider mitigation strategies (rebalancing, fairness constraints, etc.).\n",
    "\n",
    "---\n",
    "\n",
    "## Next Steps\n",
    "\n",
    "- Test with larger datasets.\n",
    "- Test with additional sensitive attributes.\n",
    "- Implement bias mitigation if needed.\n",
    "\n",
    "---\n"
   ]
  }
 ],
 "metadata": {},
 "nbformat": 4,
 "nbformat_minor": 5
}
